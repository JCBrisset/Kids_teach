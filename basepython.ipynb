{
 "cells": [
  {
   "cell_type": "code",
   "execution_count": 1,
   "metadata": {},
   "outputs": [
    {
     "name": "stdout",
     "output_type": "stream",
     "text": [
      "Hello world!\n"
     ]
    }
   ],
   "source": [
    "print(\"Hello world!\")"
   ]
  },
  {
   "cell_type": "code",
   "execution_count": 14,
   "metadata": {},
   "outputs": [
    {
     "name": "stdout",
     "output_type": "stream",
     "text": [
      "lechat\n",
      "bibi\n"
     ]
    }
   ],
   "source": [
    "bibi=\"lechat\"\n",
    "print(bibi)\n",
    "print(\"bibi\")"
   ]
  },
  {
   "cell_type": "code",
   "execution_count": 13,
   "metadata": {},
   "outputs": [
    {
     "name": "stdout",
     "output_type": "stream",
     "text": [
      "Miaou =3 \n"
     ]
    }
   ],
   "source": [
    "if bibi == \"lechat\":\n",
    "    print(\"Miaou =3 \")\n",
    "elif bibi == \"lechien\":\n",
    "    print(\"wouaf! =p\")\n",
    "else:\n",
    "    print(\"who are you?\")\n"
   ]
  },
  {
   "cell_type": "code",
   "execution_count": 20,
   "metadata": {},
   "outputs": [
    {
     "name": "stdout",
     "output_type": "stream",
     "text": [
      "['chat', 'tigre', 'panther']\n",
      "['shark', 'whale', 'goldfish']\n",
      "[]\n",
      "3\n"
     ]
    }
   ],
   "source": [
    "animal=[[\"chat\",\"tigre\",\"panther\"],\n",
    "        [\"shark\",\"whale\",\"goldfish\"],[]]\n",
    "for bb in animal:\n",
    "    print(bb)\n",
    "print(len(animal))"
   ]
  },
  {
   "cell_type": "code",
   "execution_count": 41,
   "metadata": {},
   "outputs": [
    {
     "name": "stdout",
     "output_type": "stream",
     "text": [
      "25\n",
      "the best cat is bibi\n"
     ]
    }
   ],
   "source": [
    "toto = \"bibi you are the best cat\"\n",
    "print(len(toto))\n",
    "print(toto[-12:] + \" is \"+ toto[0:4])"
   ]
  },
  {
   "cell_type": "code",
   "execution_count": 55,
   "metadata": {},
   "outputs": [],
   "source": [
    "import numpy as np\n",
    "\n",
    "def pythagore(a,b):\n",
    "    print(\"le carré de l'hypothenuse= la somme des carrés des cotes opposés\")\n",
    "    print(\"IN: (a,b) les cotes opposes\")\n",
    "    print(\"OUT: hypothenuse\")\n",
    "    hyp_carre = a*a + b*b\n",
    "    \n",
    "    return np.round(np.sqrt(hyp_carre),2)\n"
   ]
  },
  {
   "cell_type": "code",
   "execution_count": 57,
   "metadata": {},
   "outputs": [
    {
     "name": "stdout",
     "output_type": "stream",
     "text": [
      "le carré de l'hypothenuse= la somme des carrés des cotes opposés\n",
      "IN: (a,b) les cotes opposes\n",
      "OUT: hypothenuse\n"
     ]
    },
    {
     "data": {
      "text/plain": [
       "45936.54"
      ]
     },
     "execution_count": 57,
     "metadata": {},
     "output_type": "execute_result"
    }
   ],
   "source": [
    "pythagore(6565,45465)"
   ]
  },
  {
   "cell_type": "code",
   "execution_count": 58,
   "metadata": {},
   "outputs": [],
   "source": [
    "def caty(superman):\n",
    "    print (\"you are sus: \",superman)\n",
    "    "
   ]
  },
  {
   "cell_type": "code",
   "execution_count": 62,
   "metadata": {},
   "outputs": [
    {
     "name": "stdout",
     "output_type": "stream",
     "text": [
      "you are sus:  1.0\n"
     ]
    }
   ],
   "source": [
    "caty(1.0)"
   ]
  }
 ],
 "metadata": {
  "interpreter": {
   "hash": "31f2aee4e71d21fbe5cf8b01ff0e069b9275f58929596ceb00d14d90e3e16cd6"
  },
  "kernelspec": {
   "display_name": "Python 3.7.3 32-bit",
   "language": "python",
   "name": "python3"
  },
  "language_info": {
   "codemirror_mode": {
    "name": "ipython",
    "version": 3
   },
   "file_extension": ".py",
   "mimetype": "text/x-python",
   "name": "python",
   "nbconvert_exporter": "python",
   "pygments_lexer": "ipython3",
   "version": "3.7.3"
  },
  "orig_nbformat": 4
 },
 "nbformat": 4,
 "nbformat_minor": 2
}
