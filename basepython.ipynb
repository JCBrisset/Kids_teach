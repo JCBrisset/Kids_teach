{
 "cells": [
  {
   "cell_type": "markdown",
   "metadata": {},
   "source": [
    "# Basis of python for kids"
   ]
  },
  {
   "cell_type": "markdown",
   "metadata": {},
   "source": [
    "### Start with print function, variables and text"
   ]
  },
  {
   "cell_type": "code",
   "execution_count": null,
   "metadata": {},
   "outputs": [],
   "source": [
    "print(\"Hello world!\")"
   ]
  },
  {
   "cell_type": "code",
   "execution_count": null,
   "metadata": {},
   "outputs": [],
   "source": [
    "bibi=\"lechat\"\n",
    "print(bibi)\n",
    "print(\"bibi\")"
   ]
  },
  {
   "cell_type": "markdown",
   "metadata": {},
   "source": [
    "### If statement"
   ]
  },
  {
   "cell_type": "code",
   "execution_count": null,
   "metadata": {},
   "outputs": [],
   "source": [
    "if bibi == \"lechat\":\n",
    "    print(\"Miaou =3 \")\n",
    "elif bibi == \"lechien\":\n",
    "    print(\"wouaf! =p\")\n",
    "else:\n",
    "    print(\"who are you?\")\n"
   ]
  },
  {
   "cell_type": "markdown",
   "metadata": {},
   "source": [
    "### initiation of list and for loop"
   ]
  },
  {
   "cell_type": "code",
   "execution_count": null,
   "metadata": {},
   "outputs": [],
   "source": [
    "animal=[[\"chat\",\"tigre\",\"panther\",\"lion\"],\n",
    "        [\"shark\",\"whale\",\"goldfish\"],\n",
    "        []]\n",
    "ind=0\n",
    "for box in animal:\n",
    "    print(box)\n",
    "    print(len(box))\n",
    "    ind+=1\n",
    "    print(ind)\n",
    "print(\"how many boxes in the shelf 'animal'?\",len(animal))"
   ]
  },
  {
   "cell_type": "markdown",
   "metadata": {},
   "source": [
    "### work in index in index (related to list too) \n",
    "#### use case: string"
   ]
  },
  {
   "cell_type": "code",
   "execution_count": null,
   "metadata": {},
   "outputs": [],
   "source": [
    "toto = \"bibi you are the best cat\"\n",
    "print(len(toto))\n",
    "print(toto[-12:] + \" is \"+ toto[0:4])"
   ]
  },
  {
   "cell_type": "markdown",
   "metadata": {},
   "source": [
    "### Initiation of functions"
   ]
  },
  {
   "cell_type": "code",
   "execution_count": null,
   "metadata": {},
   "outputs": [],
   "source": [
    "import numpy as np # import librairies meaning already coded function on package\n",
    "\n",
    "def pythagore(a,b):\n",
    "    '''\n",
    "    calculate the pythagore theorem hyp²=side1²+side2²\n",
    "    In: numbers\n",
    "    Out: hypothenus\n",
    "    '''\n",
    "    print(\"le carré de l'hypothenuse= la somme des carrés des cotes opposés\")\n",
    "    print(\"IN: (a,b) les cotes opposes\")\n",
    "    print(\"OUT: hypothenuse\")\n",
    "    hyp_carre = a*a + b*b\n",
    "    \n",
    "    return np.round(np.sqrt(hyp_carre),20\n",
    ")\n"
   ]
  },
  {
   "cell_type": "code",
   "execution_count": null,
   "metadata": {},
   "outputs": [],
   "source": [
    "def pythagore2(h,b,rd=3): #by default rd=3 but it can be changed when function called\n",
    "    '''\n",
    "    calculate the pythagore theorem side1² = hyp²-side2²\n",
    "    In: numbers\n",
    "    Out: side1\n",
    "    by default rd=3\n",
    "    side = pythagore2(5,4) => side = 3.0\n",
    "    '''\n",
    "    a_carre = h*h - b*b\n",
    "    \n",
    "    return np.round(np.sqrt(a_carre),rd)"
   ]
  },
  {
   "cell_type": "code",
   "execution_count": null,
   "metadata": {},
   "outputs": [],
   "source": [
    "pythagore2(5,4)"
   ]
  },
  {
   "cell_type": "code",
   "execution_count": null,
   "metadata": {},
   "outputs": [],
   "source": [
    "def caty(superman):\n",
    "    print (\"you are sus \",superman)\n",
    "    "
   ]
  },
  {
   "cell_type": "code",
   "execution_count": null,
   "metadata": {},
   "outputs": [],
   "source": [
    "caty(\"picious\")"
   ]
  }
 ],
 "metadata": {
  "interpreter": {
   "hash": "31f2aee4e71d21fbe5cf8b01ff0e069b9275f58929596ceb00d14d90e3e16cd6"
  },
  "kernelspec": {
   "display_name": "Python 3.7.3 32-bit",
   "language": "python",
   "name": "python3"
  },
  "language_info": {
   "codemirror_mode": {
    "name": "ipython",
    "version": 3
   },
   "file_extension": ".py",
   "mimetype": "text/x-python",
   "name": "python",
   "nbconvert_exporter": "python",
   "pygments_lexer": "ipython3",
   "version": "3.7.3"
  },
  "orig_nbformat": 4
 },
 "nbformat": 4,
 "nbformat_minor": 2
}
